{
 "cells": [
  {
   "cell_type": "markdown",
   "metadata": {},
   "source": [
    "## Perceptron as Logical Operator\n",
    "\n",
    "<div style=\"text-align: right\">- Kushal Borkar</div>\n",
    "\n",
    "In this notebook, we will implement the perceptron as logical operator. It must be noted that we still did not start training the perceptron, instead we are explicitly giving the weights and trying to understand the single layer percetron model.\n",
    "\n",
    "<img src=\"perceptron_model.png\" style=\"width:400px;\" />\n",
    "\n",
    "The above image shows the basic perceptron model with x1, x2, x3 as input and w1, w2, w3 as weights which corresponds to the output y.\n",
    "\n",
    "It is well known from logic that we can construct any logical function from these three basic logic gates. All we need to do is find the appropriate connection weights and neuron thresholds to produce the right outputs for each set of inputs.\n",
    "\n",
    "We shall see explicitly how one can construct simple networks that perform *NOT*, *AND*, and *OR*."
   ]
  },
  {
   "cell_type": "code",
   "execution_count": 1,
   "metadata": {},
   "outputs": [],
   "source": [
    "### Important Libraries\n",
    "import numpy as np"
   ]
  },
  {
   "cell_type": "code",
   "execution_count": 2,
   "metadata": {},
   "outputs": [],
   "source": [
    "### Basic Code for Perceptron\n",
    "def step_function(y):\n",
    "    '''\n",
    "    step function which will give 0 to 1 based on the value y\n",
    "    \n",
    "    Argument:\n",
    "    ---------\n",
    "    y : scaler value\n",
    "    \n",
    "    Return:\n",
    "    ------\n",
    "    return True or False\n",
    "    '''\n",
    "    if y >= 0:\n",
    "        return True\n",
    "    else:\n",
    "        return False\n",
    "    \n",
    "def perceptron(x, w, b):\n",
    "    '''\n",
    "    Implementing the perceptron using the simple logic:\n",
    "    y = w'x + b providing weight vector w and bias b\n",
    "    \n",
    "    Argument:\n",
    "    ---------\n",
    "    x: array of 2 elements as input vector\n",
    "    w: array of 2 elements as weight vector\n",
    "    b: bias which is a scalar\n",
    "    \n",
    "    Return:\n",
    "    ------\n",
    "    return 1 or 0\n",
    "    '''\n",
    "    y = np.dot(w, x) + b\n",
    "    y = step_function(y)\n",
    "    return 1 if y == True else 0"
   ]
  },
  {
   "cell_type": "markdown",
   "metadata": {},
   "source": [
    "### And Operator\n",
    "\n",
    "The *AND* operator is true only when both pieces of information is true, as shown in the third column of the truth table on the right along with the graph.\n",
    "\n",
    "<img src=\"And.png\" style=\"width:400px;\" />"
   ]
  },
  {
   "cell_type": "code",
   "execution_count": 3,
   "metadata": {},
   "outputs": [
    {
     "name": "stdout",
     "output_type": "stream",
     "text": [
      "Input1\t Input2\t Output\n",
      "  0\t   0\t  0\n",
      "  0\t   1\t  0\n",
      "  1\t   0\t  0\n",
      "  1\t   1\t  1\n"
     ]
    }
   ],
   "source": [
    "### And Perceptron\n",
    "def and_percep(x):\n",
    "    '''\n",
    "    Implementing AND percerptron\n",
    "    We are already providing the weights and the bias.\n",
    "    \n",
    "    Argument:\n",
    "    ---------\n",
    "    x: array of 2 elements as input vector\n",
    "    \n",
    "    Return:\n",
    "    ------\n",
    "    return 1 or 0\n",
    "    '''\n",
    "    w = np.array([1, 1])\n",
    "    b = -1.5\n",
    "    return perceptron(x, w, b)\n",
    "\n",
    "def AND_perceptron():\n",
    "    test_input = [[0, 0], [0, 1], [1, 0], [1, 1]]\n",
    "    print(\"Input1\\t Input2\\t Output\")\n",
    "    for x in test_input:\n",
    "        output = and_percep(x)\n",
    "        print(f\"  {x[0]}\\t   {x[1]}\\t  {output}\")\n",
    "        \n",
    "AND_perceptron()"
   ]
  },
  {
   "cell_type": "markdown",
   "metadata": {},
   "source": [
    "### OR Operator\n",
    "\n",
    "The *OR* operator is true only when any pieces of information is true, as shown in the third column of the truth table on the right along with the graph.\n",
    "\n",
    "<img src=\"OR.png\" style=\"width:400px;\" />"
   ]
  },
  {
   "cell_type": "code",
   "execution_count": 4,
   "metadata": {},
   "outputs": [
    {
     "name": "stdout",
     "output_type": "stream",
     "text": [
      "Input1\t Input2\t Output\n",
      "  0\t   0\t  0\n",
      "  0\t   1\t  1\n",
      "  1\t   0\t  1\n",
      "  1\t   1\t  1\n"
     ]
    }
   ],
   "source": [
    "### And Perceptron\n",
    "def or_percep(x):\n",
    "    '''\n",
    "    Implementing OR percerptron\n",
    "    We are already providing the weights and the bias.\n",
    "    \n",
    "    Argument:\n",
    "    ---------\n",
    "    x: array of 2 elements as input vector\n",
    "    \n",
    "    Return:\n",
    "    ------\n",
    "    return 1 or 0\n",
    "    '''\n",
    "    w = np.array([1, 1])\n",
    "    b = -0.5\n",
    "    return perceptron(x, w, b)\n",
    "\n",
    "def OR_perceptron():\n",
    "    test_input = [[0, 0], [0, 1], [1, 0], [1, 1]]\n",
    "    print(\"Input1\\t Input2\\t Output\")\n",
    "    for x in test_input:\n",
    "        output = or_percep(x)\n",
    "        print(f\"  {x[0]}\\t   {x[1]}\\t  {output}\")\n",
    "        \n",
    "OR_perceptron()"
   ]
  },
  {
   "cell_type": "markdown",
   "metadata": {},
   "source": [
    "### NOT Operator\n",
    "The NOT operator is true only when the input is false and vice-versa."
   ]
  },
  {
   "cell_type": "code",
   "execution_count": 5,
   "metadata": {},
   "outputs": [],
   "source": [
    "def not_percep(x):\n",
    "    '''\n",
    "    Implementing NOT percerptron\n",
    "    We are already providing the weights and the bias.\n",
    "    \n",
    "    Argument:\n",
    "    ---------\n",
    "    x: array of 1 elements as input vector\n",
    "    \n",
    "    Return:\n",
    "    ------\n",
    "    return True or False\n",
    "    '''\n",
    "    return perceptron(x, w=-1, b=0.5)"
   ]
  },
  {
   "cell_type": "markdown",
   "metadata": {},
   "source": [
    "### XOR Operator\n",
    "\n",
    "This is not a simple one layer perceptron.\n",
    "XOr function should return a true value if the two inputs are not equal and a false value if they are equal.\n",
    "Due to this condition, XOR inputs are not linearly separable and cannot be solved using single layer perceptron.\n",
    "\n",
    "<img src=\"xor.jpg\" style=\"width:500px;\" />\n",
    "\n",
    "So, instead of using a single layer perceptron, we will be using 2 layer perceptron, which is as follows:\n",
    "\n",
    "<img src=\"xor_gate.jpg\" style=\"width:500px;\" />\n",
    "\n",
    "    Note: The initial layer will also have a bias node."
   ]
  },
  {
   "cell_type": "code",
   "execution_count": 6,
   "metadata": {},
   "outputs": [
    {
     "name": "stdout",
     "output_type": "stream",
     "text": [
      "Input1\t Input2\t Output\n",
      "  0\t   0\t  0\n",
      "  0\t   1\t  1\n",
      "  1\t   0\t  1\n",
      "  1\t   1\t  0\n"
     ]
    }
   ],
   "source": [
    "def XOR_net(x):\n",
    "    '''\n",
    "    Implementing XOR percerptron\n",
    "    We are using the previously defined AND, OR \n",
    "    and NOT gate. \n",
    "    \n",
    "    Argument:\n",
    "    ---------\n",
    "    x: array of 2 elements as input vector\n",
    "    \n",
    "    Return:\n",
    "    ------\n",
    "    return 1 or 0\n",
    "    '''\n",
    "    gate_1 = and_percep(x)\n",
    "    gate_2 = not_percep(gate_1)\n",
    "    gate_3 = or_percep(x)\n",
    "    \n",
    "    new_input = [gate_2, gate_3]\n",
    "    output = and_percep(new_input)\n",
    "    return output\n",
    "\n",
    "def XOR_perceptron():\n",
    "    test_input = [[0, 0], [0, 1], [1, 0], [1, 1]]\n",
    "    print(\"Input1\\t Input2\\t Output\")\n",
    "    for x in test_input:\n",
    "        output = XOR_net(x)\n",
    "        print(f\"  {x[0]}\\t   {x[1]}\\t  {output}\")\n",
    "        \n",
    "XOR_perceptron()"
   ]
  },
  {
   "cell_type": "code",
   "execution_count": null,
   "metadata": {},
   "outputs": [],
   "source": []
  }
 ],
 "metadata": {
  "kernelspec": {
   "display_name": "Python 3",
   "language": "python",
   "name": "python3"
  },
  "language_info": {
   "codemirror_mode": {
    "name": "ipython",
    "version": 3
   },
   "file_extension": ".py",
   "mimetype": "text/x-python",
   "name": "python",
   "nbconvert_exporter": "python",
   "pygments_lexer": "ipython3",
   "version": "3.7.4"
  }
 },
 "nbformat": 4,
 "nbformat_minor": 2
}
